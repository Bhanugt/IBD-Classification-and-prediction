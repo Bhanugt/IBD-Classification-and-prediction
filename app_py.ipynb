{
  "nbformat": 4,
  "nbformat_minor": 0,
  "metadata": {
    "colab": {
      "provenance": [],
      "authorship_tag": "ABX9TyPoak0TxIM90Aade4lz2gZX",
      "include_colab_link": true
    },
    "kernelspec": {
      "name": "python3",
      "display_name": "Python 3"
    },
    "language_info": {
      "name": "python"
    }
  },
  "cells": [
    {
      "cell_type": "markdown",
      "metadata": {
        "id": "view-in-github",
        "colab_type": "text"
      },
      "source": [
        "<a href=\"https://colab.research.google.com/github/Bhanugt/IBD-Classification-and-prediction/blob/main/app_py.ipynb\" target=\"_parent\"><img src=\"https://colab.research.google.com/assets/colab-badge.svg\" alt=\"Open In Colab\"/></a>"
      ]
    },
    {
      "cell_type": "code",
      "execution_count": null,
      "metadata": {
        "id": "AEGyHn4KyGlc"
      },
      "outputs": [],
      "source": [
        "import streamlit as st\n",
        "import pandas as pd\n",
        "import numpy as np\n",
        "import joblib\n",
        "\n",
        "# Load the trained model\n",
        "model = joblib.load(\"logistic_regression_model.pkl\")\n",
        "\n",
        "# Title of the Streamlit App\n",
        "st.title(\"IBD Classification Predictor\")\n",
        "\n",
        "# Sidebar Inputs\n",
        "st.sidebar.header(\"Enter Patient Details\")\n",
        "\n",
        "# Define input fields (Modify based on dataset features)\n",
        "Age = st.sidebar.slider(\"Age\", 18, 90, 30)\n",
        "CRP_Level = st.sidebar.slider(\"CRP Level\", 0.1, 50.0, 5.0)\n",
        "Fecal_Calprotectin = st.sidebar.slider(\"Fecal Calprotectin\", 50, 1000, 200)\n",
        "Diarrhea_Frequency = st.sidebar.slider(\"Diarrhea Frequency\", 0, 10, 3)\n",
        "Abdominal_Pain = st.sidebar.slider(\"Abdominal Pain Level\", 0, 10, 5)\n",
        "\n",
        "# Convert user inputs into DataFrame\n",
        "input_data = pd.DataFrame([[Age, CRP_Level, Fecal_Calprotectin, Diarrhea_Frequency, Abdominal_Pain]],\n",
        "                          columns=[\"Age\", \"CRP_Level\", \"Fecal_Calprotectin\", \"Diarrhea_Frequency\", \"Abdominal_Pain\"])\n",
        "\n",
        "# Predict the classification output\n",
        "if st.sidebar.button(\"Predict\"):\n",
        "    prediction = model.predict(input_data)\n",
        "    class_label = \"Mild\" if prediction[0] == 0 else \"Severe\" if prediction[0] == 1 else \"Normal\"\n",
        "\n",
        "    st.success(f\"Predicted IBD Classification: {class_label}\")\n"
      ]
    }
  ]
}